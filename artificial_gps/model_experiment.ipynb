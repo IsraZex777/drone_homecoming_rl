{
 "cells": [
  {
   "cell_type": "code",
   "execution_count": null,
   "metadata": {},
   "outputs": [],
   "source": [
    "import keras\n",
    "import numpy as np\n",
    "import keras_tuner as kt\n",
    "\n",
    "import tensorflow as tf\n",
    "from tensorflow.keras import (\n",
    "    layers,\n",
    "    Model,\n",
    "    Sequential,\n",
    "    optimizers\n",
    ")\n",
    "\n",
    "from artificial_gps.settings import (\n",
    "    INPUT_SEQUENCE_LEN,\n",
    "    INPUT_DATA_COLUMNS,\n",
    "    OUTPUT_DATA_COLUMNS\n",
    ")\n"
   ]
  },
  {
   "cell_type": "code",
   "execution_count": null,
   "metadata": {
    "pycharm": {
     "name": "#%%\n"
    }
   },
   "outputs": [],
   "source": [
    "force_cpu_run = True\n",
    "if force_cpu_run:\n",
    "    tf.config.set_visible_devices([], 'GPU')\n",
    "\n",
    "# print(INPUT_DATA_COLUMNS)\n",
    "# print(OUTPUT_DATA_COLUMNS)\n",
    "def create_model() -> Model:\n",
    "    \"\"\"\n",
    "    Creates dl model\n",
    "    :param hp: Hyper parameters (Initialized by a tuning algorithm)\n",
    "    :return:\n",
    "    \"\"\"\n",
    "    model = Sequential()\n",
    "    model.add(layers.Input(len(INPUT_DATA_COLUMNS)))\n",
    "    model.add(layers.Dense(100, activation=\"relu\"))\n",
    "    model.add(layers.Dense(len(OUTPUT_DATA_COLUMNS)))\n",
    "\n",
    "    optimizer = optimizers.Adam(learning_rate=0.01)\n",
    "    model.compile(loss='mean_squared_error', optimizer=optimizer)\n",
    "\n",
    "    return model"
   ]
  },
  {
   "cell_type": "code",
   "execution_count": null,
   "metadata": {
    "pycharm": {
     "name": "#%%\n"
    }
   },
   "outputs": [],
   "source": [
    "from artificial_gps.data import load_preprocessed_dataset\n",
    "train_x, train_y, dev_x, dev_y, test_x, test_y, scaler_x, scaler_y = load_preprocessed_dataset(INPUT_DATA_COLUMNS,OUTPUT_DATA_COLUMNS )"
   ]
  },
  {
   "cell_type": "code",
   "execution_count": null,
   "metadata": {
    "pycharm": {
     "name": "#%%\n"
    }
   },
   "outputs": [],
   "source": [
    "model = create_model()\n",
    "\n",
    "history = model.fit(train_x,\n",
    "                    train_y,\n",
    "                    epochs=30,\n",
    "                    batch_size=64,\n",
    "                    validation_data=(dev_x, dev_y))"
   ]
  },
  {
   "cell_type": "code",
   "execution_count": null,
   "metadata": {
    "pycharm": {
     "name": "#%%\n"
    }
   },
   "outputs": [],
   "source": [
    "import matplotlib.pyplot as plt\n",
    "\n",
    "plt.plot(history.history[\"loss\"])\n",
    "\n",
    "plt.plot(history.history[\"val_loss\"])"
   ]
  },
  {
   "cell_type": "code",
   "execution_count": null,
   "metadata": {
    "pycharm": {
     "name": "#%%\n"
    }
   },
   "outputs": [],
   "source": [
    "scaler_y.inverse_transform(model.predict(dev_x))\n"
   ]
  },
  {
   "cell_type": "code",
   "execution_count": null,
   "metadata": {
    "pycharm": {
     "name": "#%%\n"
    }
   },
   "outputs": [],
   "source": [
    "scaler_y = inverse_transform(dev_y)\n"
   ]
  },
  {
   "cell_type": "code",
   "execution_count": null,
   "metadata": {
    "pycharm": {
     "name": "#%%\n"
    }
   },
   "outputs": [],
   "source": [
    "test_y[180:200]"
   ]
  },
  {
   "cell_type": "markdown",
   "metadata": {},
   "source": []
  },
  {
   "cell_type": "code",
   "execution_count": null,
   "metadata": {
    "pycharm": {
     "name": "#%%\n"
    }
   },
   "outputs": [],
   "source": [
    "from artificial_gps.data import load_dataset\n",
    "train_x, train_y, dev_x, dev_y, test_x, test_y = load_dataset()\n",
    "import matplotlib.pyplot as plt\n",
    "\n",
    "plt.hist(train_y[:200, 0], 10000)"
   ]
  },
  {
   "cell_type": "code",
   "execution_count": null,
   "metadata": {
    "pycharm": {
     "name": "#%%\n"
    }
   },
   "outputs": [],
   "source": [
    "import matplotlib.pyplot as plt\n",
    "import numpy as np\n",
    "from scipy import stats\n",
    "from artificial_gps.data import load_sequences\n",
    "\n",
    "x_df, y_df = load_sequences()\n"
   ]
  },
  {
   "cell_type": "code",
   "execution_count": null,
   "metadata": {},
   "outputs": [],
   "source": [
    "print(y_df.describe())\n",
    "print(y_df.shape)\n",
    "# removes outlayers\n",
    "\n",
    "y_df = y_df[(np.abs(stats.zscore(y_df)) < 3).all(axis=1)]\n",
    "print(y_df.describe())\n",
    "print(y_df.shape)\n"
   ]
  },
  {
   "cell_type": "code",
   "execution_count": null,
   "metadata": {},
   "outputs": [],
   "source": [
    "y_df[\"gps_altitude\"].value_counts()\n",
    "\n"
   ]
  },
  {
   "cell_type": "code",
   "execution_count": null,
   "metadata": {},
   "outputs": [],
   "source": [
    "plt.hist(y_df.loc[:, \"gps_altitude\"], bins=100)"
   ]
  },
  {
   "cell_type": "code",
   "execution_count": null,
   "metadata": {},
   "outputs": [],
   "source": [
    "for value in y_df[\"gps_altitude\"].value_counts():\n",
    "    print(value)"
   ]
  },
  {
   "cell_type": "code",
   "execution_count": 21,
   "metadata": {},
   "outputs": [],
   "source": [
    "import os\n",
    "import numpy as np\n",
    "import pandas as pd\n",
    "from artificial_gps.data import load_flight_steps_from_file\n",
    "from artificial_gps.settings import (\n",
    "    DATA_FOLDER_PATH,\n",
    "    INPUT_DATA_COLUMNS,\n",
    "    OUTPUT_DATA_COLUMNS,\n",
    "    INPUT_SEQUENCE_LENGTH\n",
    ")\n",
    "from sklearn.preprocessing import StandardScaler, MinMaxScaler\n"
   ]
  },
  {
   "cell_type": "code",
   "execution_count": 42,
   "metadata": {},
   "outputs": [],
   "source": [
    " all_csv_files = os.listdir(DATA_FOLDER_PATH)\n",
    "\n",
    "# x, y data from all flight sessions\n",
    "x_sessions = []\n",
    "y_sessions = []\n",
    "\n",
    "# The data feed to the rnn model\n",
    "sequences_x = []\n",
    "sequences_y = []\n",
    "\n",
    "for csv_name in all_csv_files:\n",
    "    try:\n",
    "        x_df, y_df = load_flight_steps_from_file(csv_name, INPUT_DATA_COLUMNS, OUTPUT_DATA_COLUMNS)\n",
    "\n",
    "        x_sessions.append(x_df.to_numpy())\n",
    "        y_sessions.append(y_df.to_numpy())\n",
    "\n",
    "    except ValueError as error:\n",
    "        print(str(error))\n",
    "\n",
    "all_x_data = np.concatenate(x_sessions)\n",
    "all_y_data = np.concatenate(y_sessions)\n"
   ]
  },
  {
   "cell_type": "code",
   "execution_count": 43,
   "metadata": {},
   "outputs": [
    {
     "name": "stdout",
     "output_type": "stream",
     "text": [
      "(939773, 10, 38)\n",
      "(939773, 3)\n",
      "(939973, 38)\n",
      "(939973, 3)\n"
     ]
    }
   ],
   "source": [
    "scaler_x = MinMaxScaler()\n",
    "scaler_y = MinMaxScaler()\n",
    "\n",
    "scaler_x.fit(all_x_data)\n",
    "scaler_y.fit(all_y_data)\n",
    "\n",
    "for session_data_x, session_data_y in zip(x_sessions, y_sessions):\n",
    "    normalized_data_x = scaler_x.transform(session_data_x)\n",
    "    normalized_data_y = scaler_y.transform(session_data_y)\n",
    "    steps_amount = normalized_data_x.shape[0]\n",
    "\n",
    "    # Splits the data into data sequences\n",
    "    for offset in range(steps_amount - INPUT_SEQUENCE_LENGTH):\n",
    "        sequences_x.append(normalized_data_x[offset: offset + INPUT_SEQUENCE_LENGTH ,:])\n",
    "        sequences_y.append(normalized_data_y[offset + INPUT_SEQUENCE_LENGTH - 1 ,])\n",
    "        \n",
    "sequences_x = np.stack(sequences_x)\n",
    "sequences_y  = np.stack(sequences_y)\n",
    "\n",
    "print(sequences_x.shape)\n",
    "print(sequences_y.shape)\n",
    "\n",
    "print(all_x_data.shape)\n",
    "print(all_y_data.shape)"
   ]
  },
  {
   "cell_type": "code",
   "execution_count": 31,
   "metadata": {},
   "outputs": [
    {
     "name": "stdout",
     "output_type": "stream",
     "text": [
      "[[0.50840114 0.50588329 0.51216087 ... 0.59724492 0.59724492 0.00898588]\n",
      " [0.50841412 0.50587893 0.51216069 ... 0.59724463 0.59724459 0.00770218]\n",
      " [0.50839193 0.50588578 0.5121608  ... 0.40990089 0.40990087 0.00770218]\n",
      " ...\n",
      " [0.50097101 0.5392776  0.62709152 ... 0.8984482  0.89844816 0.00641848]\n",
      " [0.46637119 0.54713939 0.61972846 ... 0.88361762 0.88361758 0.00770218]\n",
      " [0.49833802 0.51565719 0.61253997 ... 0.94354217 0.94354213 0.00641859]]\n",
      "[[-2.21704286e-05  1.85322024e-05  9.95502465e-12 ...  2.49615216e+00\n",
      "   3.31842229e-02  2.10004480e-02]\n",
      " [ 4.89855651e-03 -1.35192403e-03 -3.26078947e-07 ...  2.49615097e+00\n",
      "   3.31842043e-02  1.80003840e-02]\n",
      " [-3.51623003e-03  8.04297510e-04 -1.30317602e-07 ...  1.71315813e+00\n",
      "   2.27749813e-02  1.80003840e-02]\n",
      " ...\n",
      " [-2.81794095e+00  1.05136089e+01  2.12449461e-01 ...  3.75501466e+00\n",
      "   4.99197282e-02  1.50003200e-02]\n",
      " [-1.59401178e+01  1.29887476e+01  1.98838830e-01 ...  3.69303107e+00\n",
      "   4.90957089e-02  1.80003840e-02]\n",
      " [-3.81651711e+00  3.07715273e+00  1.85550913e-01 ...  3.94348240e+00\n",
      "   5.24252467e-02  1.50005760e-02]]\n"
     ]
    }
   ],
   "source": [
    "\n",
    "scaler_x = MinMaxScaler()\n",
    "\n",
    "r = scaler_x.fit_transform(all_x_data)\n",
    "\n",
    "print(r)\n",
    "print(all_x_data)\n"
   ]
  },
  {
   "cell_type": "code",
   "execution_count": 1,
   "metadata": {},
   "outputs": [
    {
     "name": "stdout",
     "output_type": "stream",
     "text": [
      "INFO:tensorflow:Reloading Oracle from existing project ./artificial_gps_hp_tuner_lstm_25Dec_night/oracle.json\n",
      "INFO:tensorflow:Reloading Tuner from ./artificial_gps_hp_tuner_lstm_25Dec_night/tuner0.json\n"
     ]
    },
    {
     "name": "stderr",
     "output_type": "stream",
     "text": [
      "2021-12-26 19:44:02.649339: I tensorflow/stream_executor/cuda/cuda_gpu_executor.cc:939] successful NUMA node read from SysFS had negative value (-1), but there must be at least one NUMA node, so returning NUMA node zero\n",
      "2021-12-26 19:44:02.653732: I tensorflow/stream_executor/cuda/cuda_gpu_executor.cc:939] successful NUMA node read from SysFS had negative value (-1), but there must be at least one NUMA node, so returning NUMA node zero\n",
      "2021-12-26 19:44:02.654586: I tensorflow/stream_executor/cuda/cuda_gpu_executor.cc:939] successful NUMA node read from SysFS had negative value (-1), but there must be at least one NUMA node, so returning NUMA node zero\n",
      "2021-12-26 19:44:02.655682: I tensorflow/core/platform/cpu_feature_guard.cc:151] This TensorFlow binary is optimized with oneAPI Deep Neural Network Library (oneDNN) to use the following CPU instructions in performance-critical operations:  AVX2 AVX512F FMA\n",
      "To enable them in other operations, rebuild TensorFlow with the appropriate compiler flags.\n",
      "2021-12-26 19:44:02.655931: I tensorflow/stream_executor/cuda/cuda_gpu_executor.cc:939] successful NUMA node read from SysFS had negative value (-1), but there must be at least one NUMA node, so returning NUMA node zero\n",
      "2021-12-26 19:44:02.656714: I tensorflow/stream_executor/cuda/cuda_gpu_executor.cc:939] successful NUMA node read from SysFS had negative value (-1), but there must be at least one NUMA node, so returning NUMA node zero\n",
      "2021-12-26 19:44:02.657473: I tensorflow/stream_executor/cuda/cuda_gpu_executor.cc:939] successful NUMA node read from SysFS had negative value (-1), but there must be at least one NUMA node, so returning NUMA node zero\n",
      "2021-12-26 19:44:02.923553: I tensorflow/stream_executor/cuda/cuda_gpu_executor.cc:939] successful NUMA node read from SysFS had negative value (-1), but there must be at least one NUMA node, so returning NUMA node zero\n",
      "2021-12-26 19:44:02.924005: I tensorflow/stream_executor/cuda/cuda_gpu_executor.cc:939] successful NUMA node read from SysFS had negative value (-1), but there must be at least one NUMA node, so returning NUMA node zero\n",
      "2021-12-26 19:44:02.924416: I tensorflow/stream_executor/cuda/cuda_gpu_executor.cc:939] successful NUMA node read from SysFS had negative value (-1), but there must be at least one NUMA node, so returning NUMA node zero\n",
      "2021-12-26 19:44:02.924825: I tensorflow/core/common_runtime/gpu/gpu_device.cc:1525] Created device /job:localhost/replica:0/task:0/device:GPU:0 with 9823 MB memory:  -> device: 0, name: GeForce RTX 3060, pci bus id: 0000:01:00.0, compute capability: 8.6\n"
     ]
    }
   ],
   "source": [
    "from artificial_gps.lstm_tuned_training import get_best_model\n",
    "from artificial_gps.data import (\n",
    "    load_preprocessed_rnn_dataset\n",
    ")\n",
    "from artificial_gps.settings import (\n",
    "    INPUT_SEQUENCE_COLUMNS,\n",
    "    OUTPUT_SEQUENCE_COLUMNS,\n",
    "    INPUT_SEQUENCE_LENGTH\n",
    ")\n",
    "\n",
    "train_x, train_y, dev_x, dev_y, test_x, test_y, scaler_x, scaler_y = \\\n",
    "    load_preprocessed_rnn_dataset(INPUT_SEQUENCE_COLUMNS, OUTPUT_SEQUENCE_COLUMNS, INPUT_SEQUENCE_LENGTH)\n",
    "\n",
    "model = get_best_model()\n"
   ]
  },
  {
   "cell_type": "code",
   "execution_count": 2,
   "metadata": {},
   "outputs": [
    {
     "name": "stdout",
     "output_type": "stream",
     "text": [
      "Epoch 1/40\n"
     ]
    },
    {
     "name": "stderr",
     "output_type": "stream",
     "text": [
      "2021-12-26 19:44:24.118865: I tensorflow/stream_executor/cuda/cuda_dnn.cc:366] Loaded cuDNN version 8100\n"
     ]
    },
    {
     "name": "stdout",
     "output_type": "stream",
     "text": [
      " 13/879 [..............................] - ETA: 3s - loss: 0.0084   "
     ]
    },
    {
     "name": "stderr",
     "output_type": "stream",
     "text": [
      "2021-12-26 19:44:24.524965: I tensorflow/stream_executor/cuda/cuda_blas.cc:1774] TensorFloat-32 will be used for the matrix multiplication. This will only be logged once.\n"
     ]
    },
    {
     "name": "stdout",
     "output_type": "stream",
     "text": [
      "879/879 [==============================] - 6s 4ms/step - loss: 0.0897 - val_loss: 0.0144\n",
      "Epoch 2/40\n",
      "879/879 [==============================] - 3s 4ms/step - loss: 0.0305 - val_loss: 0.6031\n",
      "Epoch 3/40\n",
      "879/879 [==============================] - 3s 4ms/step - loss: 0.2524 - val_loss: 0.0848\n",
      "Epoch 4/40\n",
      "879/879 [==============================] - 3s 4ms/step - loss: 0.0510 - val_loss: 0.0257\n",
      "Epoch 5/40\n",
      "879/879 [==============================] - 3s 4ms/step - loss: 0.0400 - val_loss: 0.0338\n",
      "Epoch 6/40\n",
      "879/879 [==============================] - 3s 4ms/step - loss: 0.0408 - val_loss: 0.0146\n",
      "Epoch 7/40\n",
      "879/879 [==============================] - 3s 4ms/step - loss: 0.0436 - val_loss: 0.0144\n",
      "Epoch 8/40\n",
      "879/879 [==============================] - 3s 4ms/step - loss: 0.0490 - val_loss: 0.0298\n",
      "Epoch 9/40\n",
      "879/879 [==============================] - 3s 4ms/step - loss: 0.0334 - val_loss: 0.0145\n",
      "Epoch 10/40\n",
      "879/879 [==============================] - 4s 4ms/step - loss: 0.0170 - val_loss: 0.0278\n",
      "Epoch 11/40\n",
      "879/879 [==============================] - 3s 4ms/step - loss: 0.0371 - val_loss: 0.0273\n",
      "Epoch 12/40\n",
      "879/879 [==============================] - 3s 4ms/step - loss: 0.1297 - val_loss: 1.4938\n",
      "Epoch 13/40\n",
      "879/879 [==============================] - 3s 4ms/step - loss: 0.6299 - val_loss: 0.3247\n",
      "Epoch 14/40\n",
      "879/879 [==============================] - 3s 4ms/step - loss: 0.1815 - val_loss: 0.1206\n",
      "Epoch 15/40\n",
      "879/879 [==============================] - 4s 4ms/step - loss: 0.1088 - val_loss: 0.1891\n",
      "Epoch 16/40\n",
      "879/879 [==============================] - 3s 4ms/step - loss: 0.0879 - val_loss: 0.0487\n",
      "Epoch 17/40\n",
      "879/879 [==============================] - 3s 4ms/step - loss: 0.0720 - val_loss: 0.0418\n",
      "Epoch 18/40\n",
      "879/879 [==============================] - 3s 4ms/step - loss: 0.0698 - val_loss: 0.1078\n",
      "Epoch 19/40\n",
      "879/879 [==============================] - 3s 4ms/step - loss: 0.0543 - val_loss: 0.0778\n",
      "Epoch 20/40\n",
      "879/879 [==============================] - 4s 4ms/step - loss: 0.0576 - val_loss: 0.0712\n",
      "Epoch 21/40\n",
      "879/879 [==============================] - 3s 4ms/step - loss: 0.0458 - val_loss: 0.0324\n",
      "Epoch 22/40\n",
      "879/879 [==============================] - 3s 4ms/step - loss: 0.0439 - val_loss: 0.0334\n",
      "Epoch 23/40\n",
      "879/879 [==============================] - 3s 4ms/step - loss: 0.0432 - val_loss: 0.0386\n",
      "Epoch 24/40\n",
      "879/879 [==============================] - 3s 4ms/step - loss: 0.3201 - val_loss: 0.1965\n",
      "Epoch 25/40\n",
      "879/879 [==============================] - 3s 4ms/step - loss: 0.1310 - val_loss: 0.1054\n",
      "Epoch 26/40\n",
      "879/879 [==============================] - 3s 4ms/step - loss: 0.0754 - val_loss: 0.0874\n",
      "Epoch 27/40\n",
      "879/879 [==============================] - 3s 4ms/step - loss: 0.0546 - val_loss: 0.1764\n",
      "Epoch 28/40\n",
      "879/879 [==============================] - 3s 4ms/step - loss: 0.0503 - val_loss: 0.0380\n",
      "Epoch 29/40\n",
      "879/879 [==============================] - 3s 4ms/step - loss: 0.0516 - val_loss: 0.0598\n",
      "Epoch 30/40\n",
      "879/879 [==============================] - 3s 4ms/step - loss: 0.0312 - val_loss: 0.0193\n",
      "Epoch 31/40\n",
      "879/879 [==============================] - 3s 4ms/step - loss: 0.0447 - val_loss: 0.0506\n",
      "Epoch 32/40\n",
      "879/879 [==============================] - 3s 4ms/step - loss: 0.0416 - val_loss: 0.0184\n",
      "Epoch 33/40\n",
      "879/879 [==============================] - 4s 4ms/step - loss: 0.0186 - val_loss: 0.0154\n",
      "Epoch 34/40\n",
      "879/879 [==============================] - 3s 4ms/step - loss: 0.0330 - val_loss: 0.0178\n",
      "Epoch 35/40\n",
      "879/879 [==============================] - 4s 4ms/step - loss: 0.0292 - val_loss: 0.0142\n",
      "Epoch 36/40\n",
      "879/879 [==============================] - 3s 4ms/step - loss: 0.0306 - val_loss: 0.0185\n",
      "Epoch 37/40\n",
      "879/879 [==============================] - 4s 4ms/step - loss: 0.0374 - val_loss: 0.0079\n",
      "Epoch 38/40\n",
      "879/879 [==============================] - 4s 4ms/step - loss: 0.0273 - val_loss: 0.0392\n",
      "Epoch 39/40\n",
      "879/879 [==============================] - 4s 4ms/step - loss: 0.0158 - val_loss: 0.0099\n",
      "Epoch 40/40\n",
      "879/879 [==============================] - 4s 4ms/step - loss: 0.0325 - val_loss: 0.0079\n"
     ]
    }
   ],
   "source": [
    "history = model.fit(train_x,\n",
    "          train_y,\n",
    "          epochs=40,\n",
    "          batch_size=128,\n",
    "          validation_data=(dev_x, dev_y))\n",
    "    "
   ]
  },
  {
   "cell_type": "code",
   "execution_count": 3,
   "metadata": {},
   "outputs": [
    {
     "data": {
      "text/plain": [
       "[<matplotlib.lines.Line2D at 0x7fbfc8495310>]"
      ]
     },
     "execution_count": 3,
     "metadata": {},
     "output_type": "execute_result"
    },
    {
     "data": {
      "image/png": "[encoded data removed]",
      "text/plain": [
       "<Figure size 432x288 with 1 Axes>"
      ]
     },
     "metadata": {
      "needs_background": "light"
     },
     "output_type": "display_data"
    }
   ],
   "source": [
    "import matplotlib.pyplot as plt\n",
    "\n",
    "plt.plot(history.history[\"loss\"])\n",
    "\n",
    "plt.plot(history.history[\"val_loss\"])"
   ]
  },
  {
   "cell_type": "code",
   "execution_count": null,
   "metadata": {},
   "outputs": [],
   "source": []
  }
 ],
 "metadata": {
  "kernelspec": {
   "display_name": "drone_venv",
   "language": "python",
   "name": "drone_venv"
  },
  "language_info": {
   "codemirror_mode": {
    "name": "ipython",
    "version": 3
   },
   "file_extension": ".py",
   "mimetype": "text/x-python",
   "name": "python",
   "nbconvert_exporter": "python",
   "pygments_lexer": "ipython3",
   "version": "3.8.10"
  }
 },
 "nbformat": 4,
 "nbformat_minor": 1
}
