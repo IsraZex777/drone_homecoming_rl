{
 "cells": [
  {
   "cell_type": "code",
   "execution_count": 1,
   "id": "ce636f9d",
   "metadata": {},
   "outputs": [
    {
     "data": {
      "text/html": [
       "<style>.container { width:76% !important; }</style>"
      ],
      "text/plain": [
       "<IPython.core.display.HTML object>"
      ]
     },
     "metadata": {},
     "output_type": "display_data"
    }
   ],
   "source": [
    "from IPython.core.display import display, HTML\n",
    "display(HTML(\"<style>.container { width:76% !important; }</style>\"))"
   ]
  },
  {
   "cell_type": "code",
   "execution_count": 1,
   "id": "f1aa4bba",
   "metadata": {},
   "outputs": [],
   "source": [
    "import os\n",
    "import sys\n",
    "import tensorflow as tf\n",
    "import keras_tuner as kt\n",
    "import numpy as np\n",
    "import pandas as pd\n",
    "import matplotlib.pyplot as plt\n",
    "\n",
    "from tqdm.notebook import trange, tqdm\n",
    "from pickle import (\n",
    "    dump,\n",
    "    load\n",
    ")\n",
    "from tensorflow.keras import (\n",
    "    layers,\n",
    "    Model,\n",
    "    Sequential,\n",
    "    optimizers\n",
    ")\n",
    "from pprint import pprint\n",
    "from scipy import stats\n",
    "from sklearn.preprocessing import StandardScaler, MinMaxScaler"
   ]
  },
  {
   "cell_type": "code",
   "execution_count": 2,
   "id": "d2946b1d",
   "metadata": {},
   "outputs": [],
   "source": [
    "BASE_DIR = \"./\"\n",
    "DATA_FOLDER_NAME = \"data\"\n",
    "DATA_FOLDER_PATH = os.path.join(BASE_DIR, DATA_FOLDER_NAME)\n",
    "MODELS_FOLDER_NAME = \"models\"\n",
    "MODELS_FOLDER_PATH = os.path.join(BASE_DIR, MODELS_FOLDER_NAME)\n",
    "TUNERS_FOLDER_NAME = \"tuners\"\n",
    "TUNERS_FOLDER_PATH = os.path.join(BASE_DIR, TUNERS_FOLDER_NAME)\n",
    "\n",
    "\n",
    "OUTPUT_DATA_COLUMNS = [\"position_x\", \"position_y\", \"position_z\"]\n",
    "INPUT_DATA_COLUMNS = [\"angular_acceleration_x\", \"angular_acceleration_y\", \"angular_acceleration_z\",\n",
    "                      \"angular_velocity_x\", \"angular_velocity_y\", \"angular_velocity_z\",\n",
    "                      \"linear_acceleration_x\", \"linear_acceleration_y\", \"linear_acceleration_z\",\n",
    "                      \"linear_velocity_x\", \"linear_velocity_y\", \"linear_velocity_z\",\n",
    "                      \"orientation_x\", \"orientation_y\", \"orientation_z\", \"orientation_w\", \"motor_state_timestamp\",\n",
    "                      \"barometer_altitude\", \"barometer_pressure\", \"barometer_qnh\", \"barometer_timestamp\",\n",
    "                      \"magnetometer_magnetic_field_body_x\", \"magnetometer_magnetic_field_body_y\",\n",
    "                      \"magnetometer_magnetic_field_body_x\", \"magnetometer_timestamp\",\n",
    "                      \"rotor_a_speed\", \"rotor_a_thrust\", \"rotor_a_torque_scaler\",\n",
    "                      \"rotor_b_speed\", \"rotor_b_thrust\", \"rotor_b_torque_scaler\",\n",
    "                      \"rotor_c_speed\", \"rotor_c_thrust\", \"rotor_c_torque_scaler\",\n",
    "                      \"rotor_d_speed\", \"rotor_d_thrust\", \"rotor_d_torque_scaler\",\n",
    "                      \"rotor_timestamp\"\n",
    "                     ]\n",
    "\n",
    "TIMESTAMP_COLUMNS = [\n",
    "    \"motor_state_timestamp\",\n",
    "    \"barometer_timestamp\",\n",
    "    \"magnetometer_timestamp\",\n",
    "    \"rotor_timestamp\"\n",
    "]\n",
    "\n",
    "\n",
    "INPUT_SEQUENCE_COLUMNS = [\"angular_acceleration_x\", \"angular_acceleration_y\", \"angular_acceleration_z\",\n",
    "                          \"linear_acceleration_x\", \"linear_acceleration_y\", \"linear_acceleration_z\",\n",
    "                          \"orientation_x\", \"orientation_y\", \"orientation_z\", \"orientation_w\", \"motor_state_timestamp\",\n",
    "                          \"barometer_altitude\", \"barometer_pressure\", \"barometer_qnh\", \"barometer_timestamp\",\n",
    "                          \"magnetometer_magnetic_field_body_x\", \"magnetometer_magnetic_field_body_y\",\n",
    "                          \"magnetometer_magnetic_field_body_x\", \"magnetometer_timestamp\",\n",
    "                          \"rotor_a_speed\", \"rotor_a_thrust\", \"rotor_a_torque_scaler\",\n",
    "                          \"rotor_b_speed\", \"rotor_b_thrust\", \"rotor_b_torque_scaler\",\n",
    "                          \"rotor_c_speed\", \"rotor_c_thrust\", \"rotor_c_torque_scaler\",\n",
    "                          \"rotor_d_speed\", \"rotor_d_thrust\", \"rotor_d_torque_scaler\",\n",
    "                          \"rotor_timestamp\"\n",
    "                         ]\n",
    "OUTPUT_SEQUENCE_COLUMNS = [\"position_x\", \"position_y\", \"position_z\"]\n",
    "MAIN_TIMESTAMP_COLUMN = \"motor_state_timestamp\"\n",
    "INPUT_SEQUENCE_LENGTH = 50\n"
   ]
  },
  {
   "cell_type": "code",
   "execution_count": 4,
   "id": "460feb95",
   "metadata": {},
   "outputs": [],
   "source": [
    "def save_model_with_scalers_binary(model, scaler_x, scaler_y, model_name: str):\n",
    "    \"\"\"\n",
    "    Saves models with the x, y scaler objects to a binary library using pickle library\n",
    "    \"\"\"\n",
    "    model_file_name = f\"{model_name}_model.pkl\"\n",
    "    model_file_path = os.path.join(MODELS_FOLDER_PATH, model_file_name)\n",
    "    scaler_x_file_name = f\"{model_name}_scaler_x.pkl\"\n",
    "    scaler_x_file_path = os.path.join(MODELS_FOLDER_PATH, scaler_x_file_name)\n",
    "    scaler_y_file_name = f\"{model_name}_scaler_y.pkl\"\n",
    "    scaler_y_file_path = os.path.join(MODELS_FOLDER_PATH, scaler_y_file_name)\n",
    "\n",
    "    with open(model_file_path, \"wb\") as file:\n",
    "        dump(model, file)\n",
    "\n",
    "    with open(scaler_x_file_path, \"wb\") as file:\n",
    "        dump(scaler_x, file)\n",
    "\n",
    "    with open(scaler_y_file_path, \"wb\") as file:\n",
    "        dump(scaler_y, file)\n",
    "        \n",
    "def load_model_with_scalers_binary(model_name: str):\n",
    "    \"\"\"\n",
    "    Saves models with the x, y scaler objects to a binary library using pickle library\n",
    "    \"\"\"\n",
    "    model_file_name = f\"{model_name}_model.pkl\"\n",
    "    model_file_path = os.path.join(MODELS_FOLDER_PATH, model_file_name)\n",
    "    scaler_x_file_name = f\"{model_name}_scaler_x.pkl\"\n",
    "    scaler_x_file_path = os.path.join(MODELS_FOLDER_PATH, scaler_x_file_name)\n",
    "    scaler_y_file_name = f\"{model_name}_scaler_y.pkl\"\n",
    "    scaler_y_file_path = os.path.join(MODELS_FOLDER_PATH, scaler_y_file_name)\n",
    "\n",
    "    with open(model_file_path, \"rb\") as file:\n",
    "        model = load(file)\n",
    "\n",
    "    with open(scaler_x_file_path, \"rb\") as file:\n",
    "        scaler_x = load(file)\n",
    "\n",
    "    with open(scaler_y_file_path, \"rb\") as file:\n",
    "        scaler_y = load(file)\n",
    "\n",
    "    return model, scaler_x, scaler_y"
   ]
  },
  {
   "cell_type": "code",
   "execution_count": 5,
   "id": "fd1dcad9",
   "metadata": {},
   "outputs": [],
   "source": [
    "def split_data(data: np.array):\n",
    "    \"\"\"\n",
    "    Splits data into train, dev and test\n",
    "    :return:\n",
    "    \"\"\"\n",
    "    data_len = len(data)\n",
    "\n",
    "    train, dev, test = np.split(data, [int(.7 * data_len), int(.95 * data_len)])\n",
    "\n",
    "    return train, dev, test\n",
    "\n",
    "\n",
    "def _convert_timestamp_to_interval_seconds(flight_input_df: pd.DataFrame, timestamp_columns: list):\n",
    "    \"\"\"\n",
    "    Converts the timestamp fields into the amount of seconds between each two timestamps\n",
    "\n",
    "    Note: each timestamp represents the amount eof NANO seconds (1,000,000,000 nanoseconds = 1 seconds)\n",
    "    \"\"\"\n",
    "    # Converts the start time to time interval\n",
    "    next_time_df = flight_input_df[timestamp_columns].shift(-1)\n",
    "    time_diff_df = (next_time_df - flight_input_df[timestamp_columns]) / 1_000_000_000\n",
    "    flight_input_df.loc[:, timestamp_columns] = time_diff_df\n",
    "    return flight_input_df\n",
    "\n",
    "\n",
    "def _convert_location_to_step(flight_output_df: pd.DataFrame):\n",
    "    next_coordinates_df = flight_output_df.shift(-1)\n",
    "    coordinate_diff = flight_output_df - next_coordinates_df\n",
    "\n",
    "    return coordinate_diff\n",
    "\n",
    "\n",
    "def load_flight_steps_from_file(csv_name: str, input_columns: list, output_columns: list):\n",
    "    \"\"\"\n",
    "\n",
    "    @param csv_name:\n",
    "    @param input_columns:\n",
    "    @param output_columns:\n",
    "    @return:\n",
    "    \"\"\"\n",
    "    if not csv_name.endswith(\"csv\"):\n",
    "        raise ValueError(f\"File with unsupported extension, expected csv (file: {csv_name})\")\n",
    "\n",
    "    csv_path = os.path.join(DATA_FOLDER_PATH, csv_name)\n",
    "    flight_df = pd.read_csv(csv_path)\n",
    "\n",
    "    x_df = flight_df[input_columns].copy()\n",
    "    timestamp_columns = [column for column in input_columns if column in TIMESTAMP_COLUMNS]\n",
    "    x_df = _convert_timestamp_to_interval_seconds(x_df, timestamp_columns)\n",
    "\n",
    "    y_df = flight_df[output_columns].copy()\n",
    "    y_df = _convert_location_to_step(y_df)\n",
    "\n",
    "    # Drops the last record because the process is based of difference\n",
    "    x_df.drop(x_df.tail(1).index, inplace=True)\n",
    "    y_df.drop(y_df.tail(1).index, inplace=True)\n",
    "\n",
    "    return x_df, y_df"
   ]
  },
  {
   "cell_type": "code",
   "execution_count": 69,
   "id": "ee5e464e",
   "metadata": {},
   "outputs": [],
   "source": [
    "def load_preprocessed_flight_sequences(input_columns: list, output_columns: list):\n",
    "    \"\"\"\n",
    "    Loads flight steps and orders it to sequences of sequence_length length.\n",
    "    In order to feed it to rnn/lstm s2s model\n",
    "\n",
    "    @param input_columns: The input columns\n",
    "    @param output_columns: The outputs columns\n",
    "    @param sequence_length: Target sequence length\n",
    "    @return:\n",
    "    \"\"\"\n",
    "    all_csv_files = os.listdir(DATA_FOLDER_PATH)\n",
    "\n",
    "    # x, y data from all flight sessions\n",
    "    x_sessions = []\n",
    "    y_sessions = []\n",
    "\n",
    "    # The data feed to the rnn model\n",
    "    sequences_x = []\n",
    "    sequences_y = []\n",
    "\n",
    "    for csv_name in all_csv_files:\n",
    "        try:\n",
    "            x_df, y_df = load_flight_steps_from_file(csv_name, input_columns, output_columns)\n",
    "\n",
    "            x_sessions.append(x_df.to_numpy())\n",
    "            y_sessions.append(y_df.to_numpy())\n",
    "\n",
    "        except ValueError as error:\n",
    "            print(str(error))\n",
    "\n",
    "    all_x_data = np.concatenate(x_sessions)\n",
    "    all_y_data = np.concatenate(y_sessions)\n",
    "\n",
    "    # creating normalizers\n",
    "    scaler_x = MinMaxScaler()\n",
    "    scaler_y = MinMaxScaler()\n",
    "    #\n",
    "#     scaler_x = StandardScaler()\n",
    "#     scaler_y = StandardScaler()\n",
    "    \n",
    "    scaler_x.fit(all_x_data)\n",
    "    scaler_y.fit(all_y_data)\n",
    "\n",
    "    for session_data_x, session_data_y in zip(x_sessions, y_sessions):\n",
    "        normalized_data_x = scaler_x.transform(session_data_x)\n",
    "        normalized_data_y = scaler_y.transform(session_data_y)\n",
    "#         normalized_data_y = np.add.accumulate(session_data_y)\n",
    "        sequences_x.append(normalized_data_x)\n",
    "        sequences_y.append(normalized_data_y)\n",
    "        \n",
    "    return sequences_x, sequences_y, scaler_x, scaler_y\n",
    "\n",
    "def load_preprocessed_rnn_dataset(input_columns: list, output_columns: list):\n",
    "    \"\"\"\n",
    "    Loads the whole dataset with preprocessing\n",
    "\n",
    "    @param input_columns: Input columns names\n",
    "    @param output_columns: Output columns names\n",
    "    @param sequence_length: The size of input x sequence\n",
    "    @return: Loaded, preprocessed, shuffled, splitted data set\n",
    "    \"\"\"\n",
    "    flight_data_x, flight_data_y, scaler_x, scaler_y = load_preprocessed_flight_sequences(input_columns, output_columns)\n",
    "\n",
    "#     flight_data_x = np.ndarray(flight_data_x, dtype=\"object\")\n",
    "#     flight_data_y = np.ndarray(flight_data_x, dtype=\"object\")\n",
    "    # flight_data_x, flight_data_y = shuffle_data_set(flight_data_x, flight_data_y)\n",
    "    \n",
    "    data_amount = len(flight_data_x)\n",
    "    train_x = flight_data_x[:int(data_amount * .8)]\n",
    "    dev_x = flight_data_x[int(data_amount * .8):]\n",
    "    \n",
    "    train_y = flight_data_y[:int(data_amount * .8)]\n",
    "    dev_y = flight_data_y[int(data_amount * .8):]\n",
    "    \n",
    "    return train_x, train_y, dev_x, dev_y, scaler_x, scaler_y\n"
   ]
  },
  {
   "cell_type": "code",
   "execution_count": 70,
   "id": "d66cc2d1",
   "metadata": {},
   "outputs": [],
   "source": [
    "train_x, train_y, dev_x, dev_y, scaler_x, scaler_y = \\\n",
    "    load_preprocessed_rnn_dataset(INPUT_SEQUENCE_COLUMNS, OUTPUT_SEQUENCE_COLUMNS)\n"
   ]
  },
  {
   "cell_type": "code",
   "execution_count": 71,
   "id": "08eedfa0",
   "metadata": {},
   "outputs": [
    {
     "data": {
      "text/plain": [
       "(array([  0.,   0.,   0.,   0.,   0.,   0.,   0.,   0.,   0.,   0.,   0.,\n",
       "          0.,   0.,   0.,   0.,   0.,   0.,   0.,   0.,   0.,   0.,   0.,\n",
       "          0.,   0.,   0.,   0.,   0.,   0.,   0.,   0.,   0.,   0.,   0.,\n",
       "          0.,   0.,   0.,   0.,   0.,   0.,   0.,   0.,   0.,   0.,   0.,\n",
       "          0.,   0.,   0.,   0.,   0.,   0., 250.,   0.,   0.,   0.,   0.,\n",
       "          0.,   0.,   0.,   0.,   0.,   0.,   0.,   0.,   0.,   0.,   0.,\n",
       "          0.,   0.,   0.,   0.,   0.,   0.,   0.,   0.,   0.,   0.,   0.,\n",
       "          0.,   0.,   0.,   0.,   0.,   0.,   0.,   0.,   0.,   0.,   0.,\n",
       "          0.,   0.,   0.,   0.,   0.,   0.,   0.,   0.,   0.,   0.,   0.,\n",
       "          0.]),\n",
       " array([-0.02376592, -0.01376592, -0.00376592,  0.00623408,  0.01623408,\n",
       "         0.02623408,  0.03623408,  0.04623408,  0.05623408,  0.06623408,\n",
       "         0.07623408,  0.08623408,  0.09623408,  0.10623408,  0.11623408,\n",
       "         0.12623408,  0.13623408,  0.14623408,  0.15623408,  0.16623408,\n",
       "         0.17623408,  0.18623408,  0.19623408,  0.20623408,  0.21623408,\n",
       "         0.22623408,  0.23623408,  0.24623408,  0.25623408,  0.26623408,\n",
       "         0.27623408,  0.28623408,  0.29623408,  0.30623408,  0.31623408,\n",
       "         0.32623408,  0.33623408,  0.34623408,  0.35623408,  0.36623408,\n",
       "         0.37623408,  0.38623408,  0.39623408,  0.40623408,  0.41623408,\n",
       "         0.42623408,  0.43623408,  0.44623408,  0.45623408,  0.46623408,\n",
       "         0.47623408,  0.48623408,  0.49623408,  0.50623408,  0.51623408,\n",
       "         0.52623408,  0.53623408,  0.54623408,  0.55623408,  0.56623408,\n",
       "         0.57623408,  0.58623408,  0.59623408,  0.60623408,  0.61623408,\n",
       "         0.62623408,  0.63623408,  0.64623408,  0.65623408,  0.66623408,\n",
       "         0.67623408,  0.68623408,  0.69623408,  0.70623408,  0.71623408,\n",
       "         0.72623408,  0.73623408,  0.74623408,  0.75623408,  0.76623408,\n",
       "         0.77623408,  0.78623408,  0.79623408,  0.80623408,  0.81623408,\n",
       "         0.82623408,  0.83623408,  0.84623408,  0.85623408,  0.86623408,\n",
       "         0.87623408,  0.88623408,  0.89623408,  0.90623408,  0.91623408,\n",
       "         0.92623408,  0.93623408,  0.94623408,  0.95623408,  0.96623408,\n",
       "         0.97623408]),\n",
       " <BarContainer object of 100 artists>)"
      ]
     },
     "execution_count": 71,
     "metadata": {},
     "output_type": "execute_result"
    },
    {
     "data": {
      "image/png": "[encoded data removed]",
      "text/plain": [
       "<Figure size 432x288 with 1 Axes>"
      ]
     },
     "metadata": {
      "needs_background": "light"
     },
     "output_type": "display_data"
    }
   ],
   "source": [
    "plt.hist(dev_y[0][:,0], 100)"
   ]
  },
  {
   "cell_type": "code",
   "execution_count": null,
   "id": "9809b5ca",
   "metadata": {},
   "outputs": [],
   "source": []
  },
  {
   "cell_type": "code",
   "execution_count": null,
   "id": "3120a648",
   "metadata": {},
   "outputs": [],
   "source": []
  },
  {
   "cell_type": "code",
   "execution_count": null,
   "id": "1926f327",
   "metadata": {},
   "outputs": [],
   "source": []
  },
  {
   "cell_type": "code",
   "execution_count": null,
   "id": "e75f74b7",
   "metadata": {},
   "outputs": [],
   "source": []
  },
  {
   "cell_type": "code",
   "execution_count": 72,
   "id": "45b413c3",
   "metadata": {},
   "outputs": [],
   "source": [
    "def create_model(input_columns_amount: int, output_columns_amount: int) -> Model:\n",
    "    \"\"\"\n",
    "    Creates LSTM model\n",
    "    @return:\n",
    "    \"\"\"\n",
    "    input_layer = layers.Input(shape=(None,input_columns_amount))\n",
    "    layer = layers.LSTM(512, return_sequences=True)(input_layer)\n",
    "    output_layer = layers.Dense(output_columns_amount)(layer)\n",
    "    \n",
    "    model = Model(inputs=input_layer, outputs=output_layer)\n",
    "    model.compile(loss='mean_squared_error',\n",
    "                  optimizer=optimizers.Adam(learning_rate=0.01))\n",
    "\n",
    "    return model\n",
    "\n",
    "\n",
    "\n",
    "def create_model_dynamic(hp: kt.HyperParameters) -> Model:\n",
    "    \"\"\"\n",
    "    Creates LSTM model using the input hyperparameters chose by keras_tuner\n",
    "    \"\"\"\n",
    "    input_layer = layers.Input(shape=(None, hp.get(\"input_columns_amount\")))\n",
    "    lstm_layer_1_units = hp.Int(\"lstm_layer_1_units\", min_value=8, max_value=256, step=8)\n",
    "    layer = layers.LSTM(lstm_layer_1_units, return_sequences=True)(input_layer)\n",
    "    output_layer = layers.Dense(hp.get(\"output_columns_amount\"))(layer)\n",
    "    \n",
    "    model = Model(inputs=input_layer, outputs=output_layer)\n",
    "    model.compile(loss='mean_squared_error',\n",
    "                  optimizer=optimizers.Adam(learning_rate=0.001, clipvalue=.5))\n",
    "\n",
    "    return model\n",
    "\n",
    "def create_model_dynamic(hp: kt.HyperParameters) -> Model:\n",
    "    \"\"\"\n",
    "    Creates LSTM model using the input hyperparameters chose by keras_tuner\n",
    "    \"\"\"\n",
    "\n",
    "    input_layer = layers.Input(shape=(None, hp.get(\"input_columns_amount\")))\n",
    "    lstm_layer_1_units = hp.Int(\"lstm_layer_units\", min_value=8, max_value=128, step=8)\n",
    "    layer = layers.LSTM(lstm_layer_1_units, return_sequences=True)(input_layer)\n",
    "    \n",
    " \n",
    "    dense_layers = hp.Int(\"dense_layers_amount\", min_value=0, max_value=2)\n",
    "    dense_activation = hp.Choice(\"dense_activation\", [\"sigmoid\", \"relu\", \"sigmoid\", \"relu\", \"tanh\"])\n",
    "\n",
    "    for layer_index in range(1, dense_layers + 1):\n",
    "        units = hp.Int(f\"dense_{layer_index}_units\", min_value=16, max_value=128, step=16)\n",
    "        layer = layers.Dense(units, activation=dense_activation)(layer)\n",
    "\n",
    "        if hp.Boolean(f\"dense_{layer_index}_dropout\"):\n",
    "            dropout_rate = hp.Float(f\"dense_{layer_index}_dropout_rate\", min_value=0, max_value=0.4, step=0.05)\n",
    "            layer = layers.Dropout(dropout_rate)(layer)\n",
    "\n",
    "    output_layer = layers.Dense(hp.get(\"output_columns_amount\"))(layer)\n",
    "\n",
    "    learning_rate = hp.Choice(\"adam_learning_rate\", [0.1, 0.2, 0.05, 1e-2, 1e-3, 5e-3, 5e-4])\n",
    "    if hp.Boolean(f\"learning_rate_decay\"):\n",
    "        learning_rate = optimizers.schedules.ExponentialDecay(\n",
    "            initial_learning_rate=learning_rate,\n",
    "            decay_steps=10000,\n",
    "            decay_rate=0.9)\n",
    "    \n",
    "    model = Model(inputs=input_layer, outputs=output_layer)\n",
    "    \n",
    "    model.compile(loss='mean_squared_error',\n",
    "                  optimizer=optimizers.Adam(learning_rate=learning_rate))\n",
    "    \n",
    "    return model\n",
    "    \n",
    "\n",
    "def train_epoch(epoch, model, train_x, train_y, dev_x, dev_y, **kwards):\n",
    "    loss_temp = []\n",
    "    for x, y in zip(train_x, train_y):\n",
    "        train_loss = model.train_on_batch(np.expand_dims(x, axis=0),\n",
    "                                          np.expand_dims(y, axis=0), **kwards)\n",
    "        loss_temp.append(train_loss)\n",
    "    \n",
    "    train_loss = sum(loss_temp)/ len(loss_temp)\n",
    "    \n",
    "    loss_temp = []\n",
    "    for x, y in zip(dev_x, dev_y):\n",
    "        dev_loss = model.test_on_batch(np.expand_dims(x, axis=0),\n",
    "                                       np.expand_dims(y, axis=0))\n",
    "        loss_temp.append(dev_loss)\n",
    "    \n",
    "    dev_loss = sum(loss_temp)/ len(loss_temp)\n",
    "    \n",
    "    print(f\"{epoch} loss: {train_loss}, val_loss: {dev_loss}\")\n",
    "    \n",
    "    return train_loss, dev_loss"
   ]
  },
  {
   "cell_type": "code",
   "execution_count": 73,
   "id": "bcf94227",
   "metadata": {},
   "outputs": [],
   "source": [
    "FORCE_CPU_RUN = False\n",
    "if FORCE_CPU_RUN:\n",
    "    print(\"###########################\")\n",
    "    tf.config.set_visible_devices([], 'GPU')"
   ]
  },
  {
   "cell_type": "code",
   "execution_count": 83,
   "id": "b347ad34",
   "metadata": {},
   "outputs": [
    {
     "name": "stdout",
     "output_type": "stream",
     "text": [
      "0 loss: 2.8527215318264147, val_loss: 0.013864393532276153\n",
      "1 loss: 0.015117746679798552, val_loss: 0.005833914782851934\n",
      "2 loss: 0.013419166587195113, val_loss: 0.006934617180377245\n",
      "3 loss: 0.012766976056522444, val_loss: 0.009764122311025858\n",
      "4 loss: 0.015006562939992077, val_loss: 0.0149876169860363\n",
      "5 loss: 0.017728343091316913, val_loss: 0.0208258006721735\n",
      "6 loss: 0.020428896587538093, val_loss: 0.019326338451355694\n",
      "7 loss: 0.02083722526501668, val_loss: 0.009906277153640985\n",
      "8 loss: 0.016039103496280547, val_loss: 0.005338361067697406\n",
      "9 loss: 0.010921170610297275, val_loss: 0.0046536476816982034\n",
      "10 loss: 0.009095382882821324, val_loss: 0.004685049643740058\n",
      "11 loss: 0.008972574086663755, val_loss: 0.0049416869413107635\n",
      "12 loss: 0.009228018455599485, val_loss: 0.005199510417878628\n",
      "13 loss: 0.009502022643573582, val_loss: 0.005451352242380381\n",
      "14 loss: 0.009741514290094767, val_loss: 0.005728146340698004\n",
      "15 loss: 0.009989902855044133, val_loss: 0.006086406297981739\n",
      "16 loss: 0.01027950998028054, val_loss: 0.0065856421366333965\n",
      "17 loss: 0.01065440719800168, val_loss: 0.00731280967593193\n",
      "18 loss: 0.011145121620134696, val_loss: 0.008244273252785206\n",
      "19 loss: 0.01174008445569167, val_loss: 0.009260286390781403\n",
      "20 loss: 0.012348728928420889, val_loss: 0.009845602884888649\n",
      "21 loss: 0.01272793795214966, val_loss: 0.00922683086246252\n",
      "22 loss: 0.012453794549832023, val_loss: 0.007486688997596502\n",
      "23 loss: 0.011188817967195064, val_loss: 0.005939953308552503\n",
      "24 loss: 0.009265920230015916, val_loss: 0.005562358954921365\n",
      "25 loss: 0.007649075348653193, val_loss: 0.006029800674878061\n",
      "26 loss: 0.0068649785079239675, val_loss: 0.006650172499939799\n",
      "27 loss: 0.006575844129608748, val_loss: 0.006840326823294163\n",
      "28 loss: 0.006336337334543809, val_loss: 0.0066004325170069935\n",
      "29 loss: 0.0060776959986756805, val_loss: 0.006220421358011663\n",
      "30 loss: 0.005845919789479874, val_loss: 0.0058749702526256446\n",
      "31 loss: 0.00567269990010812, val_loss: 0.005610966589301825\n",
      "32 loss: 0.0055634566754298774, val_loss: 0.005420217593200505\n",
      "33 loss: 0.005499041277768188, val_loss: 0.005298850033432246\n",
      "34 loss: 0.005468743834123751, val_loss: 0.005229806713759899\n",
      "35 loss: 0.005464686914102027, val_loss: 0.005201774253509939\n",
      "36 loss: 0.0054897835606856175, val_loss: 0.005229684920050204\n",
      "37 loss: 0.005542203139109341, val_loss: 0.005280861468054354\n",
      "38 loss: 0.005611745218629949, val_loss: 0.005404094140976668\n",
      "39 loss: 0.005680854483599481, val_loss: 0.005505902785807848\n",
      "40 loss: 0.005748259240614348, val_loss: 0.005596836027689278\n",
      "41 loss: 0.005795081774857336, val_loss: 0.005639528878964484\n",
      "42 loss: 0.005806947202041843, val_loss: 0.005617947573773563\n",
      "43 loss: 0.005755736343225611, val_loss: 0.005550866667181254\n",
      "44 loss: 0.005675648993928917, val_loss: 0.005434338212944567\n",
      "45 loss: 0.00557960322016458, val_loss: 0.005293219303712249\n",
      "46 loss: 0.005480098612392076, val_loss: 0.005192041536793113\n",
      "47 loss: 0.005403592271154355, val_loss: 0.005105150304734707\n",
      "48 loss: 0.005279615873740495, val_loss: 0.0050536844646558166\n",
      "49 loss: 0.0052475446136668324, val_loss: 0.005017326935194433\n",
      "50 loss: 0.005216388044094569, val_loss: 0.004957790952175856\n",
      "51 loss: 0.0051776266880455965, val_loss: 0.004958298173733056\n",
      "52 loss: 0.005137902085583559, val_loss: 0.004937213379889727\n",
      "53 loss: 0.005094302035439269, val_loss: 0.004932908969931304\n",
      "54 loss: 0.005058021515172808, val_loss: 0.004922899533994496\n",
      "55 loss: 0.0050263903517349575, val_loss: 0.004958065995015204\n",
      "56 loss: 0.0050024080594180545, val_loss: 0.00496312805917114\n",
      "57 loss: 0.0049865107514625905, val_loss: 0.004991807229816914\n",
      "58 loss: 0.0050519248049424375, val_loss: 0.004990924685262144\n",
      "59 loss: 0.004920004873910281, val_loss: 0.005015430646017194\n",
      "60 loss: 0.004918009542866218, val_loss: 0.005065017007291317\n",
      "61 loss: 0.0048847460673546025, val_loss: 0.005178960924968124\n",
      "62 loss: 0.004912404996790237, val_loss: 0.005002666660584509\n",
      "63 loss: 0.004886964321485721, val_loss: 0.005232943664304912\n",
      "64 loss: 0.004877664038519326, val_loss: 0.005328426579944789\n",
      "65 loss: 0.004937133845248211, val_loss: 0.005461554462090135\n",
      "66 loss: 0.004973913866897898, val_loss: 0.005307055963203311\n",
      "67 loss: 0.004909167237775891, val_loss: 0.005642835912294686\n",
      "68 loss: 0.004930442690046651, val_loss: 0.005547191202640534\n",
      "69 loss: 0.0048774264486335026, val_loss: 0.005805130675435066\n",
      "70 loss: 0.004883102201060147, val_loss: 0.005612833285704255\n",
      "71 loss: 0.004756652279052344, val_loss: 0.005750169279053807\n",
      "72 loss: 0.0046714099459533925, val_loss: 0.005887065408751368\n",
      "73 loss: 0.004712519994523302, val_loss: 0.005550584010779858\n",
      "74 loss: 0.0044958443546707525, val_loss: 0.005844236770644784\n",
      "75 loss: 0.004405372546706961, val_loss: 0.005427640152629465\n",
      "76 loss: 0.004225461383420655, val_loss: 0.0055635861703194674\n",
      "77 loss: 0.0041704207894661905, val_loss: 0.005376938742119819\n",
      "78 loss: 0.004096114301845725, val_loss: 0.005125496652908623\n",
      "79 loss: 0.004009038127869165, val_loss: 0.0051011384173762055\n",
      "80 loss: 0.003828570307201804, val_loss: 0.005246704176533968\n",
      "81 loss: 0.0039001638594383715, val_loss: 0.005674924177583307\n",
      "82 loss: 0.00401719937125515, val_loss: 0.005894399143289775\n",
      "83 loss: 0.004292498681216354, val_loss: 0.00786677529104054\n",
      "84 loss: 0.004580220860110498, val_loss: 0.009479327080771326\n",
      "85 loss: 0.005273829620196729, val_loss: 0.011975223943591119\n",
      "86 loss: 0.00557141029888666, val_loss: 0.00961787481792271\n",
      "87 loss: 0.005268969694091203, val_loss: 0.00774583169259131\n",
      "88 loss: 0.004705152782231667, val_loss: 0.007357648247852922\n",
      "89 loss: 0.005220934269202285, val_loss: 0.008753634663298726\n",
      "90 loss: 0.005780951956311535, val_loss: 0.009675833955407142\n",
      "91 loss: 0.005628554812191348, val_loss: 0.010221721418201924\n",
      "92 loss: 0.005812793887391882, val_loss: 0.012424738705158233\n",
      "93 loss: 0.006474636593147328, val_loss: 0.013816086016595364\n",
      "94 loss: 0.006249557393235399, val_loss: 0.011324290744960308\n",
      "95 loss: 0.005195572595479653, val_loss: 0.009935619309544563\n",
      "96 loss: 0.004528119293115053, val_loss: 0.007000508531928062\n",
      "97 loss: 0.005206270066800674, val_loss: 0.007952880579978228\n",
      "98 loss: 0.004187831784580148, val_loss: 0.0062803314998745915\n",
      "99 loss: 0.0034235067279568235, val_loss: 0.006530432752333582\n"
     ]
    }
   ],
   "source": [
    "epochs = 100\n",
    "model = create_model(len(INPUT_SEQUENCE_COLUMNS), len(OUTPUT_SEQUENCE_COLUMNS))\n",
    "\n",
    "# model.summary()\n",
    "\n",
    "all_train_loss = []\n",
    "all_dev_loss = []\n",
    "for epoch in range(epochs):\n",
    "    loss_temp = []\n",
    "    for x, y in zip(train_x, train_y):\n",
    "        train_loss = model.train_on_batch(np.expand_dims(x, axis=0),\n",
    "                                          np.expand_dims(y, axis=0))\n",
    "        loss_temp.append(train_loss)\n",
    "\n",
    "    train_loss = sum(loss_temp)/ len(loss_temp)\n",
    "    all_train_loss.append(train_loss)\n",
    "    \n",
    "    loss_temp = []\n",
    "    for x, y in zip(dev_x, dev_y):\n",
    "        dev_loss = model.test_on_batch(np.expand_dims(x, axis=0),\n",
    "                                       np.expand_dims(y, axis=0))\n",
    "        loss_temp.append(dev_loss)\n",
    "    \n",
    "    val_loss = sum(loss_temp)/ len(loss_temp)\n",
    "    all_dev_loss.append(val_loss)    \n",
    "    \n",
    "    print(f\"{epoch} loss: {train_loss}, val_loss: {val_loss}\")\n",
    "\n",
    "\n",
    "# history = model.fit(train_x,\n",
    "#           train_y,\n",
    "#           epochs=100,\n",
    "#           batch_size=1,\n",
    "#           validation_data=(dev_x, dev_y))"
   ]
  },
  {
   "cell_type": "code",
   "execution_count": 84,
   "id": "74ca995c",
   "metadata": {},
   "outputs": [
    {
     "data": {
      "text/plain": [
       "[<matplotlib.lines.Line2D at 0x7fcf597c6220>]"
      ]
     },
     "execution_count": 84,
     "metadata": {},
     "output_type": "execute_result"
    },
    {
     "data": {
      "image/png": "[encoded data removed]",
      "text/plain": [
       "<Figure size 432x288 with 1 Axes>"
      ]
     },
     "metadata": {
      "needs_background": "light"
     },
     "output_type": "display_data"
    }
   ],
   "source": [
    "plt.plot(all_train_loss)\n",
    "plt.plot(all_dev_loss) \n"
   ]
  },
  {
   "cell_type": "code",
   "execution_count": 85,
   "id": "18fc0659",
   "metadata": {},
   "outputs": [
    {
     "data": {
      "text/plain": [
       "[<matplotlib.lines.Line2D at 0x7fcf597a3b80>]"
      ]
     },
     "execution_count": 85,
     "metadata": {},
     "output_type": "execute_result"
    },
    {
     "data": {
      "image/png": "[encoded data removed]",
      "text/plain": [
       "<Figure size 432x288 with 1 Axes>"
      ]
     },
     "metadata": {
      "needs_background": "light"
     },
     "output_type": "display_data"
    }
   ],
   "source": [
    "plt.plot(all_train_loss[2:])\n",
    "plt.plot(all_dev_loss[2:]) "
   ]
  },
  {
   "cell_type": "code",
   "execution_count": 86,
   "id": "2f392ced",
   "metadata": {},
   "outputs": [
    {
     "name": "stderr",
     "output_type": "stream",
     "text": [
      "WARNING:absl:Found untraced functions such as lstm_cell_17_layer_call_fn, lstm_cell_17_layer_call_and_return_conditional_losses, lstm_cell_17_layer_call_fn, lstm_cell_17_layer_call_and_return_conditional_losses, lstm_cell_17_layer_call_and_return_conditional_losses while saving (showing 5 of 5). These functions will not be directly callable after loading.\n"
     ]
    },
    {
     "name": "stdout",
     "output_type": "stream",
     "text": [
      "INFO:tensorflow:Assets written to: ram://01c3a8e1-5988-4008-96f8-25b04d3ad640/assets\n"
     ]
    },
    {
     "name": "stderr",
     "output_type": "stream",
     "text": [
      "INFO:tensorflow:Assets written to: ram://01c3a8e1-5988-4008-96f8-25b04d3ad640/assets\n",
      "WARNING:absl:<keras.layers.recurrent.LSTMCell object at 0x7fcf9c0fc820> has the same name 'LSTMCell' as a built-in Keras object. Consider renaming <class 'keras.layers.recurrent.LSTMCell'> to avoid naming conflicts when loading with `tf.keras.models.load_model`. If renaming is not possible, pass the object in the `custom_objects` parameter of the load function.\n"
     ]
    }
   ],
   "source": [
    "save_model_with_scalers_binary(model, scaler_x, scaler_y, \"s2s_model_static\")"
   ]
  },
  {
   "cell_type": "code",
   "execution_count": 78,
   "id": "27fead02",
   "metadata": {},
   "outputs": [],
   "source": [
    "from settings import TUNERS_FOLDER_PATH\n",
    "import copy \n",
    "class CusomeRandomTuner(kt.RandomSearch):\n",
    "    def run_trial(self, trial, train_x, train_y, dev_x, dev_y, epochs, *args, **kwargs):\n",
    "        model = self.hypermodel.build(trial.hyperparameters)\n",
    "        model_checkpoint = tf.keras.callbacks.ModelCheckpoint(\n",
    "            filepath=self._get_checkpoint_fname(trial.trial_id, self._reported_step),\n",
    "            monitor=self.oracle.objective.name,\n",
    "            mode=self.oracle.objective.direction,\n",
    "            save_best_only=True,\n",
    "            save_weights_only=True,\n",
    "        )\n",
    "        early_stopping = tf.keras.callbacks.EarlyStopping(monitor=self.oracle.objective.name,\n",
    "                                                          patience=5, \n",
    "                                                          restore_best_weights=True)\n",
    "        \n",
    "        early_stopping.on_train_begin()\n",
    "        \n",
    "        model_checkpoint.set_model(model)\n",
    "        early_stopping.set_model(model)\n",
    "        best_loss = sys.float_info.max\n",
    "        best_loss_index = 0\n",
    "        \n",
    "        histories = []\n",
    "        for epoch in range(epochs):\n",
    "            \n",
    "            train_loss, dev_loss = train_epoch(epoch, model, train_x, train_y, dev_x, dev_y)\n",
    "            scores = {'loss': train_loss, \"val_loss\": dev_loss}\n",
    "            \n",
    "            model_checkpoint.on_epoch_end(epoch, logs=scores) \n",
    "            early_stopping.on_epoch_end(epoch, logs=scores) \n",
    "            \n",
    "            if dev_loss < best_loss:\n",
    "                best_loss_index = epoch\n",
    "                best_loss = dev_loss\n",
    "                \n",
    "            if model.stop_training:\n",
    "                scores[\"val_loss\"] = best_loss\n",
    "                self.on_epoch_end(trial, model, epoch, logs=scores) \n",
    "                break\n",
    "            elif epoch == epochs - 1:\n",
    "                print(1)\n",
    "                scores[\"val_loss\"] = best_loss\n",
    "            self.on_epoch_end(trial, model, epoch, logs=scores) \n",
    "            histories.append(scores)\n",
    "        \n",
    "        return histories\n",
    "\n",
    "\n",
    "hp = kt.HyperParameters()\n",
    "hp.Fixed(\"input_columns_amount\", len(INPUT_SEQUENCE_COLUMNS))\n",
    "hp.Fixed(\"output_columns_amount\", len(OUTPUT_SEQUENCE_COLUMNS))\n",
    "\n",
    "tuner = CusomeRandomTuner(\n",
    "        create_model_dynamic,\n",
    "        hyperparameters=hp,\n",
    "        tune_new_entries=True,\n",
    "        objective=\"val_loss\",\n",
    "        max_trials=1000,\n",
    "        directory=TUNERS_FOLDER_PATH,\n",
    "        project_name=\"s2s_exp1_2\"\n",
    "    )\n"
   ]
  },
  {
   "cell_type": "code",
   "execution_count": 79,
   "id": "a30887b6",
   "metadata": {},
   "outputs": [
    {
     "ename": "IndexError",
     "evalue": "list index out of range",
     "output_type": "error",
     "traceback": [
      "\u001b[0;31m---------------------------------------------------------------------------\u001b[0m",
      "\u001b[0;31mIndexError\u001b[0m                                Traceback (most recent call last)",
      "\u001b[0;32m/tmp/ipykernel_36408/441563288.py\u001b[0m in \u001b[0;36m<module>\u001b[0;34m\u001b[0m\n\u001b[0;32m----> 1\u001b[0;31m \u001b[0mmodel\u001b[0m \u001b[0;34m=\u001b[0m \u001b[0mtuner\u001b[0m\u001b[0;34m.\u001b[0m\u001b[0mget_best_models\u001b[0m\u001b[0;34m(\u001b[0m\u001b[0mnum_models\u001b[0m\u001b[0;34m=\u001b[0m\u001b[0;36m10\u001b[0m\u001b[0;34m)\u001b[0m\u001b[0;34m[\u001b[0m\u001b[0;36m5\u001b[0m\u001b[0;34m]\u001b[0m\u001b[0;34m\u001b[0m\u001b[0;34m\u001b[0m\u001b[0m\n\u001b[0m\u001b[1;32m      2\u001b[0m \u001b[0msave_model_with_scalers_binary\u001b[0m\u001b[0;34m(\u001b[0m\u001b[0mmodel\u001b[0m\u001b[0;34m,\u001b[0m \u001b[0mscaler_x\u001b[0m\u001b[0;34m,\u001b[0m \u001b[0mscaler_y\u001b[0m\u001b[0;34m,\u001b[0m \u001b[0;34m\"s2s_model_1\"\u001b[0m\u001b[0;34m)\u001b[0m\u001b[0;34m\u001b[0m\u001b[0;34m\u001b[0m\u001b[0m\n",
      "\u001b[0;31mIndexError\u001b[0m: list index out of range"
     ]
    }
   ],
   "source": [
    "model = tuner.get_best_models(num_models=10)[5]\n",
    "save_model_with_scalers_binary(model, scaler_x, scaler_y, \"s2s_model_1\")"
   ]
  },
  {
   "cell_type": "code",
   "execution_count": null,
   "id": "9dd0f56d",
   "metadata": {},
   "outputs": [],
   "source": [
    "tuner.search(train_x = train_x,\n",
    "             train_y = train_y,\n",
    "             dev_x = dev_x,\n",
    "             dev_y = dev_y,\n",
    "             epochs = 100)"
   ]
  },
  {
   "cell_type": "code",
   "execution_count": 87,
   "id": "26246eeb",
   "metadata": {},
   "outputs": [],
   "source": [
    "# evalueate test\n",
    "\n",
    "\n",
    "def test_model_predictions(model_name: str, data_csv_name: str, input_columns: list, output_columns: list):\n",
    "    flight_x_df, flight_y_df = load_flight_steps_from_file(data_csv_name, input_columns, output_columns)\n",
    "    data_x = flight_x_df.to_numpy()\n",
    "    real_y = flight_y_df.to_numpy()\n",
    "\n",
    "    try:\n",
    "        model, scaler_x, scaler_y = load_model_with_scalers_binary(model_name)\n",
    "    except FileNotFoundError:\n",
    "        print(f\"There is no model in name: {model_name}\")\n",
    "        return\n",
    "    \n",
    "    print(model.test_on_batch(np.expand_dims(data_x, axis=0),\n",
    "                                       np.expand_dims(real_y, axis=0)))\n",
    "    time_intervals = flight_x_df[MAIN_TIMESTAMP_COLUMN].to_numpy().reshape(-1, 1)\n",
    "    data_x = scaler_x.transform(data_x)\n",
    "    predicted_y = model.predict_on_batch(np.expand_dims(data_x, axis=0))\n",
    "                                \n",
    "    predicted_y = scaler_y.inverse_transform(predicted_y[0])\n",
    "    \n",
    "    time_offset = np.add.accumulate(time_intervals)\n",
    "    predicted_offset = np.add.accumulate(predicted_y)\n",
    "    real_offset = np.add.accumulate(real_y)\n",
    "\n",
    "    time_stamps_to_print = list(range(10))\n",
    "    time_stamps_to_print.extend([15, 20, 25, 30, 40, 50, 100])\n",
    "    index = 0\n",
    "\n",
    "    for predicted, real, time_offset in zip(predicted_offset, real_offset, time_offset):\n",
    "        if index < len(time_stamps_to_print) and \\\n",
    "                int(time_offset) == time_stamps_to_print[index]:\n",
    "            print(\n",
    "                f\"position:\\nreal offset:      {real}\\npredicted offset: {predicted}\\ntime offset(seconds): {time_offset}\\n\\n\")\n",
    "            index += 1\n",
    "\n",
    "    return predicted_offset, real_offset, time_offset\n"
   ]
  },
  {
   "cell_type": "code",
   "execution_count": 103,
   "id": "359edaaa",
   "metadata": {},
   "outputs": [
    {
     "name": "stdout",
     "output_type": "stream",
     "text": [
      "0.025915659964084625\n",
      "position:\n",
      "real offset:      [0.         0.         0.10630608]\n",
      "predicted offset: [ 0.00415018 -0.0366777   0.10485726]\n",
      "time offset(seconds): [0.01500032]\n",
      "\n",
      "\n",
      "position:\n",
      "real offset:      [0.         0.         7.06066322]\n",
      "predicted offset: [1.768895  1.2170222 4.927701 ]\n",
      "time offset(seconds): [1.00202138]\n",
      "\n",
      "\n",
      "position:\n",
      "real offset:      [ 0.         0.        14.1417675]\n",
      "predicted offset: [3.710559  2.8307087 9.823689 ]\n",
      "time offset(seconds): [2.00404275]\n",
      "\n",
      "\n",
      "position:\n",
      "real offset:      [ 0.          0.         21.24101448]\n",
      "predicted offset: [ 5.830222  4.74959  14.737027]\n",
      "time offset(seconds): [3.01206426]\n",
      "\n",
      "\n",
      "position:\n",
      "real offset:      [ 0.          0.         28.31544685]\n",
      "predicted offset: [ 8.126933   6.9605365 19.67702  ]\n",
      "time offset(seconds): [4.01108557]\n",
      "\n",
      "\n"
     ]
    }
   ],
   "source": [
    "trained_on = [\"flight_2021:12:21_20:52:19_1_record.csv\",\n",
    "              \"flight_2021:12:21_20:05:53_1_record.csv\",\n",
    "             \"create_10_seconds_down_only_flight_record_data.csv\"]\n",
    "new_data = [\"flight_2021:12:21_19:38:37_1_record.csv\",\n",
    "            \"flight_2021:12:28_00:25:05_1_record.csv\", \n",
    "            \"flight_2021:12:26_21:37:31_1_record.csv\",\n",
    "            \"flight_2021:12:31_22:03:16_record.csv\"]\n",
    "\n",
    "predicted_offset, real_offset, time_offset  = test_model_predictions(\"s2s_model_static\",\n",
    "                       trained_on[0],\n",
    "                       INPUT_SEQUENCE_COLUMNS,\n",
    "                       OUTPUT_SEQUENCE_COLUMNS)"
   ]
  },
  {
   "cell_type": "code",
   "execution_count": 104,
   "id": "38298504",
   "metadata": {},
   "outputs": [
    {
     "data": {
      "text/plain": [
       "[<matplotlib.lines.Line2D at 0x7fcfc45f2d00>]"
      ]
     },
     "execution_count": 104,
     "metadata": {},
     "output_type": "execute_result"
    },
    {
     "data": {
      "image/png": "[encoded data removed]",
      "text/plain": [
       "<Figure size 432x288 with 1 Axes>"
      ]
     },
     "metadata": {
      "needs_background": "light"
     },
     "output_type": "display_data"
    }
   ],
   "source": [
    "plt.plot(predicted_offset[:,0])\n",
    "plt.plot(real_offset[:, 0])"
   ]
  },
  {
   "cell_type": "code",
   "execution_count": 105,
   "id": "89ce6702",
   "metadata": {},
   "outputs": [
    {
     "data": {
      "text/plain": [
       "[<matplotlib.lines.Line2D at 0x7fcfd41ff160>]"
      ]
     },
     "execution_count": 105,
     "metadata": {},
     "output_type": "execute_result"
    },
    {
     "data": {
      "image/png": "[encoded data removed]",
      "text/plain": [
       "<Figure size 432x288 with 1 Axes>"
      ]
     },
     "metadata": {
      "needs_background": "light"
     },
     "output_type": "display_data"
    }
   ],
   "source": [
    "plt.plot(predicted_offset[:,1])\n",
    "plt.plot(real_offset[:, 1])"
   ]
  },
  {
   "cell_type": "code",
   "execution_count": 106,
   "id": "862e6306",
   "metadata": {},
   "outputs": [
    {
     "data": {
      "text/plain": [
       "[<matplotlib.lines.Line2D at 0x7fd02c158490>]"
      ]
     },
     "execution_count": 106,
     "metadata": {},
     "output_type": "execute_result"
    },
    {
     "data": {
      "image/png": "[encoded data removed]",
      "text/plain": [
       "<Figure size 432x288 with 1 Axes>"
      ]
     },
     "metadata": {
      "needs_background": "light"
     },
     "output_type": "display_data"
    }
   ],
   "source": [
    "plt.plot(predicted_offset[:,2])\n",
    "plt.plot(real_offset[:, 2])"
   ]
  },
  {
   "cell_type": "code",
   "execution_count": null,
   "id": "1dd78f3d",
   "metadata": {},
   "outputs": [],
   "source": []
  },
  {
   "cell_type": "code",
   "execution_count": null,
   "id": "d5599772",
   "metadata": {},
   "outputs": [],
   "source": []
  },
  {
   "cell_type": "code",
   "execution_count": null,
   "id": "c1ef5c7d",
   "metadata": {},
   "outputs": [],
   "source": []
  },
  {
   "cell_type": "code",
   "execution_count": null,
   "id": "33595078",
   "metadata": {},
   "outputs": [],
   "source": []
  },
  {
   "cell_type": "code",
   "execution_count": null,
   "id": "f3a39c0f",
   "metadata": {},
   "outputs": [],
   "source": []
  },
  {
   "cell_type": "code",
   "execution_count": null,
   "id": "ca535de9",
   "metadata": {},
   "outputs": [],
   "source": []
  },
  {
   "cell_type": "code",
   "execution_count": null,
   "id": "9bdf8b09",
   "metadata": {},
   "outputs": [],
   "source": []
  },
  {
   "cell_type": "code",
   "execution_count": null,
   "id": "e5ef11ce",
   "metadata": {},
   "outputs": [],
   "source": []
  },
  {
   "cell_type": "code",
   "execution_count": null,
   "id": "1cb9ec02",
   "metadata": {},
   "outputs": [],
   "source": []
  },
  {
   "cell_type": "code",
   "execution_count": null,
   "id": "a1e6744e",
   "metadata": {},
   "outputs": [],
   "source": []
  },
  {
   "cell_type": "code",
   "execution_count": null,
   "id": "35044b0a",
   "metadata": {},
   "outputs": [],
   "source": []
  }
 ],
 "metadata": {
  "kernelspec": {
   "display_name": "drone_venv",
   "language": "python",
   "name": "drone_venv"
  },
  "language_info": {
   "codemirror_mode": {
    "name": "ipython",
    "version": 3
   },
   "file_extension": ".py",
   "mimetype": "text/x-python",
   "name": "python",
   "nbconvert_exporter": "python",
   "pygments_lexer": "ipython3",
   "version": "3.8.10"
  }
 },
 "nbformat": 4,
 "nbformat_minor": 5
}
