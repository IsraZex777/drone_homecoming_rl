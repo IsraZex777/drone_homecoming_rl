{
 "cells": [
  {
   "cell_type": "code",
   "execution_count": 1,
   "id": "6542819b",
   "metadata": {},
   "outputs": [
    {
     "name": "stderr",
     "output_type": "stream",
     "text": [
      "2021-12-30 16:42:30.607198: I tensorflow/stream_executor/cuda/cuda_gpu_executor.cc:939] successful NUMA node read from SysFS had negative value (-1), but there must be at least one NUMA node, so returning NUMA node zero\n",
      "2021-12-30 16:42:30.619730: I tensorflow/stream_executor/cuda/cuda_gpu_executor.cc:939] successful NUMA node read from SysFS had negative value (-1), but there must be at least one NUMA node, so returning NUMA node zero\n",
      "2021-12-30 16:42:30.620790: I tensorflow/stream_executor/cuda/cuda_gpu_executor.cc:939] successful NUMA node read from SysFS had negative value (-1), but there must be at least one NUMA node, so returning NUMA node zero\n",
      "2021-12-30 16:42:30.622306: I tensorflow/core/platform/cpu_feature_guard.cc:151] This TensorFlow binary is optimized with oneAPI Deep Neural Network Library (oneDNN) to use the following CPU instructions in performance-critical operations:  AVX2 AVX512F FMA\n",
      "To enable them in other operations, rebuild TensorFlow with the appropriate compiler flags.\n",
      "2021-12-30 16:42:30.623134: I tensorflow/stream_executor/cuda/cuda_gpu_executor.cc:939] successful NUMA node read from SysFS had negative value (-1), but there must be at least one NUMA node, so returning NUMA node zero\n",
      "2021-12-30 16:42:30.623945: I tensorflow/stream_executor/cuda/cuda_gpu_executor.cc:939] successful NUMA node read from SysFS had negative value (-1), but there must be at least one NUMA node, so returning NUMA node zero\n",
      "2021-12-30 16:42:30.624583: I tensorflow/stream_executor/cuda/cuda_gpu_executor.cc:939] successful NUMA node read from SysFS had negative value (-1), but there must be at least one NUMA node, so returning NUMA node zero\n",
      "2021-12-30 16:42:30.895813: I tensorflow/stream_executor/cuda/cuda_gpu_executor.cc:939] successful NUMA node read from SysFS had negative value (-1), but there must be at least one NUMA node, so returning NUMA node zero\n",
      "2021-12-30 16:42:30.896279: I tensorflow/stream_executor/cuda/cuda_gpu_executor.cc:939] successful NUMA node read from SysFS had negative value (-1), but there must be at least one NUMA node, so returning NUMA node zero\n",
      "2021-12-30 16:42:30.896761: I tensorflow/stream_executor/cuda/cuda_gpu_executor.cc:939] successful NUMA node read from SysFS had negative value (-1), but there must be at least one NUMA node, so returning NUMA node zero\n",
      "2021-12-30 16:42:30.897225: I tensorflow/core/common_runtime/gpu/gpu_device.cc:1525] Created device /job:localhost/replica:0/task:0/device:GPU:0 with 9503 MB memory:  -> device: 0, name: GeForce RTX 3060, pci bus id: 0000:01:00.0, compute capability: 8.6\n"
     ]
    },
    {
     "ename": "ValueError",
     "evalue": "X has 38 features, but StandardScaler is expecting 32 features as input.",
     "output_type": "error",
     "traceback": [
      "\u001b[0;31m---------------------------------------------------------------------------\u001b[0m",
      "\u001b[0;31mValueError\u001b[0m                                Traceback (most recent call last)",
      "\u001b[0;32m/tmp/ipykernel_13304/2061257818.py\u001b[0m in \u001b[0;36m<module>\u001b[0;34m\u001b[0m\n\u001b[1;32m      9\u001b[0m \u001b[0;34m\u001b[0m\u001b[0m\n\u001b[1;32m     10\u001b[0m \u001b[0;32mif\u001b[0m \u001b[0m__name__\u001b[0m \u001b[0;34m==\u001b[0m \u001b[0;34m\"__main__\"\u001b[0m\u001b[0;34m:\u001b[0m\u001b[0;34m\u001b[0m\u001b[0;34m\u001b[0m\u001b[0m\n\u001b[0;32m---> 11\u001b[0;31m     test_model_predictions(\"wihtout_velocity\",\n\u001b[0m\u001b[1;32m     12\u001b[0m                            \u001b[0;34m\"flight_2021:12:21_20:05:53_1_record.csv\"\u001b[0m\u001b[0;34m,\u001b[0m\u001b[0;34m\u001b[0m\u001b[0;34m\u001b[0m\u001b[0m\n\u001b[1;32m     13\u001b[0m                            \u001b[0mINPUT_DATA_COLUMNS\u001b[0m\u001b[0;34m,\u001b[0m\u001b[0;34m\u001b[0m\u001b[0;34m\u001b[0m\u001b[0m\n",
      "\u001b[0;32m~/Desktop/drone_homecoming_rl/artificial_gps/model_tester.py\u001b[0m in \u001b[0;36mtest_model_predictions\u001b[0;34m(model_name, data_csv_name, input_columns, output_columns)\u001b[0m\n\u001b[1;32m     24\u001b[0m \u001b[0;34m\u001b[0m\u001b[0m\n\u001b[1;32m     25\u001b[0m     \u001b[0mtime_intervals\u001b[0m \u001b[0;34m=\u001b[0m \u001b[0mflight_x_df\u001b[0m\u001b[0;34m[\u001b[0m\u001b[0mMAIN_TIMESTAMP_COLUMN\u001b[0m\u001b[0;34m]\u001b[0m\u001b[0;34m.\u001b[0m\u001b[0mto_numpy\u001b[0m\u001b[0;34m(\u001b[0m\u001b[0;34m)\u001b[0m\u001b[0;34m.\u001b[0m\u001b[0mreshape\u001b[0m\u001b[0;34m(\u001b[0m\u001b[0;34m-\u001b[0m\u001b[0;36m1\u001b[0m\u001b[0;34m,\u001b[0m \u001b[0;36m1\u001b[0m\u001b[0;34m)\u001b[0m\u001b[0;34m\u001b[0m\u001b[0;34m\u001b[0m\u001b[0m\n\u001b[0;32m---> 26\u001b[0;31m     \u001b[0mdata_x\u001b[0m \u001b[0;34m=\u001b[0m \u001b[0mscaler_x\u001b[0m\u001b[0;34m.\u001b[0m\u001b[0mtransform\u001b[0m\u001b[0;34m(\u001b[0m\u001b[0mdata_x\u001b[0m\u001b[0;34m)\u001b[0m\u001b[0;34m\u001b[0m\u001b[0;34m\u001b[0m\u001b[0m\n\u001b[0m\u001b[1;32m     27\u001b[0m \u001b[0;34m\u001b[0m\u001b[0m\n\u001b[1;32m     28\u001b[0m     \u001b[0mpredicted_y\u001b[0m \u001b[0;34m=\u001b[0m \u001b[0mmodel\u001b[0m\u001b[0;34m.\u001b[0m\u001b[0mpredict\u001b[0m\u001b[0;34m(\u001b[0m\u001b[0mdata_x\u001b[0m\u001b[0;34m)\u001b[0m\u001b[0;34m\u001b[0m\u001b[0;34m\u001b[0m\u001b[0m\n",
      "\u001b[0;32m~/Desktop/drone_homecoming_rl/venv/lib/python3.8/site-packages/sklearn/preprocessing/_data.py\u001b[0m in \u001b[0;36mtransform\u001b[0;34m(self, X, copy)\u001b[0m\n\u001b[1;32m    971\u001b[0m \u001b[0;34m\u001b[0m\u001b[0m\n\u001b[1;32m    972\u001b[0m         \u001b[0mcopy\u001b[0m \u001b[0;34m=\u001b[0m \u001b[0mcopy\u001b[0m \u001b[0;32mif\u001b[0m \u001b[0mcopy\u001b[0m \u001b[0;32mis\u001b[0m \u001b[0;32mnot\u001b[0m \u001b[0;32mNone\u001b[0m \u001b[0;32melse\u001b[0m \u001b[0mself\u001b[0m\u001b[0;34m.\u001b[0m\u001b[0mcopy\u001b[0m\u001b[0;34m\u001b[0m\u001b[0;34m\u001b[0m\u001b[0m\n\u001b[0;32m--> 973\u001b[0;31m         X = self._validate_data(\n\u001b[0m\u001b[1;32m    974\u001b[0m             \u001b[0mX\u001b[0m\u001b[0;34m,\u001b[0m\u001b[0;34m\u001b[0m\u001b[0;34m\u001b[0m\u001b[0m\n\u001b[1;32m    975\u001b[0m             \u001b[0mreset\u001b[0m\u001b[0;34m=\u001b[0m\u001b[0;32mFalse\u001b[0m\u001b[0;34m,\u001b[0m\u001b[0;34m\u001b[0m\u001b[0;34m\u001b[0m\u001b[0m\n",
      "\u001b[0;32m~/Desktop/drone_homecoming_rl/venv/lib/python3.8/site-packages/sklearn/base.py\u001b[0m in \u001b[0;36m_validate_data\u001b[0;34m(self, X, y, reset, validate_separately, **check_params)\u001b[0m\n\u001b[1;32m    578\u001b[0m \u001b[0;34m\u001b[0m\u001b[0m\n\u001b[1;32m    579\u001b[0m         \u001b[0;32mif\u001b[0m \u001b[0;32mnot\u001b[0m \u001b[0mno_val_X\u001b[0m \u001b[0;32mand\u001b[0m \u001b[0mcheck_params\u001b[0m\u001b[0;34m.\u001b[0m\u001b[0mget\u001b[0m\u001b[0;34m(\u001b[0m\u001b[0;34m\"ensure_2d\"\u001b[0m\u001b[0;34m,\u001b[0m \u001b[0;32mTrue\u001b[0m\u001b[0;34m)\u001b[0m\u001b[0;34m:\u001b[0m\u001b[0;34m\u001b[0m\u001b[0;34m\u001b[0m\u001b[0m\n\u001b[0;32m--> 580\u001b[0;31m             \u001b[0mself\u001b[0m\u001b[0;34m.\u001b[0m\u001b[0m_check_n_features\u001b[0m\u001b[0;34m(\u001b[0m\u001b[0mX\u001b[0m\u001b[0;34m,\u001b[0m \u001b[0mreset\u001b[0m\u001b[0;34m=\u001b[0m\u001b[0mreset\u001b[0m\u001b[0;34m)\u001b[0m\u001b[0;34m\u001b[0m\u001b[0;34m\u001b[0m\u001b[0m\n\u001b[0m\u001b[1;32m    581\u001b[0m \u001b[0;34m\u001b[0m\u001b[0m\n\u001b[1;32m    582\u001b[0m         \u001b[0;32mreturn\u001b[0m \u001b[0mout\u001b[0m\u001b[0;34m\u001b[0m\u001b[0;34m\u001b[0m\u001b[0m\n",
      "\u001b[0;32m~/Desktop/drone_homecoming_rl/venv/lib/python3.8/site-packages/sklearn/base.py\u001b[0m in \u001b[0;36m_check_n_features\u001b[0;34m(self, X, reset)\u001b[0m\n\u001b[1;32m    393\u001b[0m \u001b[0;34m\u001b[0m\u001b[0m\n\u001b[1;32m    394\u001b[0m         \u001b[0;32mif\u001b[0m \u001b[0mn_features\u001b[0m \u001b[0;34m!=\u001b[0m \u001b[0mself\u001b[0m\u001b[0;34m.\u001b[0m\u001b[0mn_features_in_\u001b[0m\u001b[0;34m:\u001b[0m\u001b[0;34m\u001b[0m\u001b[0;34m\u001b[0m\u001b[0m\n\u001b[0;32m--> 395\u001b[0;31m             raise ValueError(\n\u001b[0m\u001b[1;32m    396\u001b[0m                 \u001b[0;34mf\"X has {n_features} features, but {self.__class__.__name__} \"\u001b[0m\u001b[0;34m\u001b[0m\u001b[0;34m\u001b[0m\u001b[0m\n\u001b[1;32m    397\u001b[0m                 \u001b[0;34mf\"is expecting {self.n_features_in_} features as input.\"\u001b[0m\u001b[0;34m\u001b[0m\u001b[0;34m\u001b[0m\u001b[0m\n",
      "\u001b[0;31mValueError\u001b[0m: X has 38 features, but StandardScaler is expecting 32 features as input."
     ]
    }
   ],
   "source": [
    "from artificial_gps.model_tester import test_model_predictions\n",
    "\n",
    "from artificial_gps.settings import (\n",
    "    INPUT_DATA_COLUMNS,\n",
    "    OUTPUT_DATA_COLUMNS,\n",
    "    INPUT_SEQUENCE_COLUMNS,\n",
    "    OUTPUT_SEQUENCE_COLUMNS\n",
    ")\n",
    "\n",
    "if __name__ == \"__main__\":\n",
    "    test_model_predictions(\"wihtout_velocity\",\n",
    "                           \"flight_2021:12:21_20:05:53_1_record.csv\",\n",
    "                           INPUT_DATA_COLUMNS,\n",
    "                           OUTPUT_DATA_COLUMNS)\n",
    "\n"
   ]
  },
  {
   "cell_type": "code",
   "execution_count": 2,
   "id": "605f1485",
   "metadata": {},
   "outputs": [
    {
     "name": "stdout",
     "output_type": "stream",
     "text": [
      "Called create_model. Ran 0.03 seconds\n",
      "Epoch 1/30\n",
      " 158/1107 [===>..........................] - ETA: 0s - loss: 0.0161"
     ]
    },
    {
     "name": "stderr",
     "output_type": "stream",
     "text": [
      "2021-12-30 16:43:39.637707: I tensorflow/stream_executor/cuda/cuda_blas.cc:1774] TensorFloat-32 will be used for the matrix multiplication. This will only be logged once.\n"
     ]
    },
    {
     "name": "stdout",
     "output_type": "stream",
     "text": [
      "1107/1107 [==============================] - 2s 1ms/step - loss: 0.0082 - val_loss: 0.0022\n",
      "Epoch 2/30\n",
      "1107/1107 [==============================] - 1s 1ms/step - loss: 3.1709e-04 - val_loss: 8.5127e-04\n",
      "Epoch 3/30\n",
      "1107/1107 [==============================] - 1s 1ms/step - loss: 3.0313e-04 - val_loss: 8.7042e-04\n",
      "Epoch 4/30\n",
      "1107/1107 [==============================] - 1s 1ms/step - loss: 2.9681e-04 - val_loss: 7.5368e-04\n",
      "Epoch 5/30\n",
      "1107/1107 [==============================] - 2s 2ms/step - loss: 2.7897e-04 - val_loss: 9.3999e-04\n",
      "Epoch 6/30\n",
      "1107/1107 [==============================] - 2s 1ms/step - loss: 2.6176e-04 - val_loss: 8.8987e-04\n",
      "Epoch 7/30\n",
      "1107/1107 [==============================] - 2s 2ms/step - loss: 2.6871e-04 - val_loss: 7.5109e-04\n",
      "Epoch 8/30\n",
      "1107/1107 [==============================] - 2s 1ms/step - loss: 2.3991e-04 - val_loss: 9.2340e-04\n",
      "Epoch 9/30\n",
      "1107/1107 [==============================] - 1s 1ms/step - loss: 2.5033e-04 - val_loss: 8.0953e-04\n",
      "Epoch 10/30\n",
      "1107/1107 [==============================] - 1s 1ms/step - loss: 2.2865e-04 - val_loss: 8.2758e-04\n",
      "Epoch 11/30\n",
      "1107/1107 [==============================] - 1s 1ms/step - loss: 2.2837e-04 - val_loss: 7.3926e-04\n",
      "Epoch 12/30\n",
      "1107/1107 [==============================] - 1s 1ms/step - loss: 2.1909e-04 - val_loss: 7.9079e-04\n",
      "Epoch 13/30\n",
      "1107/1107 [==============================] - 1s 1ms/step - loss: 2.2116e-04 - val_loss: 7.9597e-04\n",
      "Epoch 14/30\n",
      "1107/1107 [==============================] - 1s 1ms/step - loss: 2.1152e-04 - val_loss: 7.8572e-04\n",
      "Epoch 15/30\n",
      "1107/1107 [==============================] - 1s 1ms/step - loss: 2.0707e-04 - val_loss: 7.1364e-04\n",
      "Epoch 16/30\n",
      "1107/1107 [==============================] - 1s 1ms/step - loss: 2.0128e-04 - val_loss: 7.0533e-04\n",
      "Epoch 17/30\n",
      "1107/1107 [==============================] - 1s 1ms/step - loss: 2.0149e-04 - val_loss: 7.6988e-04\n",
      "Epoch 18/30\n",
      "1107/1107 [==============================] - 1s 1ms/step - loss: 1.9681e-04 - val_loss: 7.5930e-04\n",
      "Epoch 19/30\n",
      "1107/1107 [==============================] - 1s 1ms/step - loss: 1.9061e-04 - val_loss: 6.7435e-04\n",
      "Epoch 20/30\n",
      "1107/1107 [==============================] - 1s 1ms/step - loss: 1.9090e-04 - val_loss: 7.0832e-04\n",
      "Epoch 21/30\n",
      "1107/1107 [==============================] - 1s 1ms/step - loss: 1.8468e-04 - val_loss: 6.9364e-04\n",
      "Epoch 22/30\n",
      "1107/1107 [==============================] - 1s 1ms/step - loss: 1.8286e-04 - val_loss: 7.9254e-04\n",
      "Epoch 23/30\n",
      "1107/1107 [==============================] - 1s 1ms/step - loss: 1.7945e-04 - val_loss: 6.6576e-04\n",
      "Epoch 24/30\n",
      "1107/1107 [==============================] - 1s 1ms/step - loss: 1.7326e-04 - val_loss: 6.4314e-04\n",
      "Epoch 25/30\n",
      "1107/1107 [==============================] - 1s 1ms/step - loss: 1.7341e-04 - val_loss: 6.8032e-04\n",
      "Epoch 26/30\n",
      "1107/1107 [==============================] - 1s 1ms/step - loss: 1.6818e-04 - val_loss: 6.5053e-04\n",
      "Epoch 27/30\n",
      "1107/1107 [==============================] - 1s 1ms/step - loss: 1.6627e-04 - val_loss: 5.9777e-04\n",
      "Epoch 28/30\n",
      "1107/1107 [==============================] - 1s 1ms/step - loss: 1.5930e-04 - val_loss: 5.7653e-04\n",
      "Epoch 29/30\n",
      "1107/1107 [==============================] - 1s 1ms/step - loss: 1.5632e-04 - val_loss: 5.7978e-04\n",
      "Epoch 30/30\n",
      "1107/1107 [==============================] - 1s 1ms/step - loss: 1.5210e-04 - val_loss: 5.6978e-04\n",
      "Called train_static_model. Ran 41.20 seconds\n"
     ]
    }
   ],
   "source": [
    "import matplotlib.pyplot as plt\n",
    "\n",
    "from artificial_gps.experiment1 import train_static_model\n",
    "from artificial_gps.settings import (\n",
    "    INPUT_DATA_COLUMNS,\n",
    "    OUTPUT_DATA_COLUMNS,\n",
    "    INPUT_SEQUENCE_COLUMNS,\n",
    "    OUTPUT_SEQUENCE_COLUMNS,\n",
    "    INPUT_SEQUENCE_LENGTH\n",
    ")\n",
    "\n",
    "history = train_static_model()"
   ]
  },
  {
   "cell_type": "code",
   "execution_count": 5,
   "id": "ad548b9c",
   "metadata": {},
   "outputs": [
    {
     "data": {
      "text/plain": [
       "[<matplotlib.lines.Line2D at 0x7fadaa164790>]"
      ]
     },
     "execution_count": 5,
     "metadata": {},
     "output_type": "execute_result"
    },
    {
     "data": {
      "image/png": "[encoded data removed]",
      "text/plain": [
       "<Figure size 432x288 with 1 Axes>"
      ]
     },
     "metadata": {
      "needs_background": "light"
     },
     "output_type": "display_data"
    }
   ],
   "source": [
    "\n",
    "plt.plot(history[0].history[\"loss\"])\n",
    "plt.plot(history[0].history[\"val_loss\"])"
   ]
  },
  {
   "cell_type": "code",
   "execution_count": null,
   "id": "e948fd55",
   "metadata": {},
   "outputs": [],
   "source": []
  }
 ],
 "metadata": {
  "kernelspec": {
   "display_name": "drone_venv",
   "language": "python",
   "name": "drone_venv"
  },
  "language_info": {
   "codemirror_mode": {
    "name": "ipython",
    "version": 3
   },
   "file_extension": ".py",
   "mimetype": "text/x-python",
   "name": "python",
   "nbconvert_exporter": "python",
   "pygments_lexer": "ipython3",
   "version": "3.8.10"
  }
 },
 "nbformat": 4,
 "nbformat_minor": 5
}
